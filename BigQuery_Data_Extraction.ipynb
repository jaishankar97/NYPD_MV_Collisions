{
  "nbformat": 4,
  "nbformat_minor": 0,
  "metadata": {
    "colab": {
      "name": "BigQuery Data Extraction.ipynb",
      "provenance": [],
      "collapsed_sections": []
    },
    "kernelspec": {
      "name": "python3",
      "display_name": "Python 3"
    },
    "language_info": {
      "name": "python"
    }
  },
  "cells": [
    {
      "cell_type": "markdown",
      "source": [
        "Authenticating Colab with BigQuery"
      ],
      "metadata": {
        "id": "36gzOvyBem5R"
      }
    },
    {
      "cell_type": "code",
      "execution_count": 1,
      "metadata": {
        "id": "2blzFkGxYv25"
      },
      "outputs": [],
      "source": [
        "from google.colab import auth"
      ]
    },
    {
      "cell_type": "code",
      "source": [
        "auth.authenticate_user()"
      ],
      "metadata": {
        "id": "ciRKoImTY0Tp"
      },
      "execution_count": 2,
      "outputs": []
    },
    {
      "cell_type": "code",
      "source": [
        "project_id = 'task-1'"
      ],
      "metadata": {
        "id": "ixURaQThY_Ke"
      },
      "execution_count": 3,
      "outputs": []
    },
    {
      "cell_type": "code",
      "source": [
        "from google.cloud import bigquery"
      ],
      "metadata": {
        "id": "ThHSMLveZ5_l"
      },
      "execution_count": 4,
      "outputs": []
    },
    {
      "cell_type": "code",
      "source": [
        "client = bigquery.Client(project = project_id)"
      ],
      "metadata": {
        "id": "jYlL6NrYaNuv"
      },
      "execution_count": 5,
      "outputs": []
    },
    {
      "cell_type": "markdown",
      "source": [
        "Accessing the Public Dataset"
      ],
      "metadata": {
        "id": "q7Ay68Ide0m8"
      }
    },
    {
      "cell_type": "code",
      "source": [
        "dataset_ref = client.dataset('new_york_mv_collisions', project = 'bigquery-public-data')"
      ],
      "metadata": {
        "id": "CPLxFQgeaWuL"
      },
      "execution_count": 6,
      "outputs": []
    },
    {
      "cell_type": "code",
      "source": [
        "dataset = client.get_dataset(dataset_ref)"
      ],
      "metadata": {
        "id": "qaQ2MoHJa4Ps"
      },
      "execution_count": 7,
      "outputs": []
    },
    {
      "cell_type": "markdown",
      "source": [
        "Identifying number of Tables in the Dataset"
      ],
      "metadata": {
        "id": "o6-GrmPoe9Ts"
      }
    },
    {
      "cell_type": "code",
      "source": [
        "tables = list(client.list_tables(dataset))"
      ],
      "metadata": {
        "id": "pZygeKSSa-Zm"
      },
      "execution_count": 8,
      "outputs": []
    },
    {
      "cell_type": "code",
      "source": [
        "for table in tables:\n",
        "  print(table.table_id)"
      ],
      "metadata": {
        "colab": {
          "base_uri": "https://localhost:8080/"
        },
        "id": "5HLofR7mbM-u",
        "outputId": "2884bb79-ada4-4e31-9e70-33195db334ae"
      },
      "execution_count": 9,
      "outputs": [
        {
          "output_type": "stream",
          "name": "stdout",
          "text": [
            "nypd_mv_collisions\n"
          ]
        }
      ]
    },
    {
      "cell_type": "code",
      "source": [
        "table_ref = dataset_ref.table('nypd_mv_collisions')"
      ],
      "metadata": {
        "id": "7nhhSlHFbR47"
      },
      "execution_count": 10,
      "outputs": []
    },
    {
      "cell_type": "code",
      "source": [
        "table = client.get_table(table_ref)"
      ],
      "metadata": {
        "id": "01k-df4nbg2g"
      },
      "execution_count": 11,
      "outputs": []
    },
    {
      "cell_type": "code",
      "source": [
        "table.schema"
      ],
      "metadata": {
        "colab": {
          "base_uri": "https://localhost:8080/"
        },
        "id": "o3ikoeUfboSG",
        "outputId": "3887855c-b90c-4fe5-eb2e-955e6750d606"
      },
      "execution_count": 12,
      "outputs": [
        {
          "output_type": "execute_result",
          "data": {
            "text/plain": [
              "[SchemaField('borough', 'STRING', 'NULLABLE', '', ()),\n",
              " SchemaField('contributing_factor_vehicle_1', 'STRING', 'NULLABLE', '', ()),\n",
              " SchemaField('contributing_factor_vehicle_2', 'STRING', 'NULLABLE', '', ()),\n",
              " SchemaField('contributing_factor_vehicle_3', 'STRING', 'NULLABLE', '', ()),\n",
              " SchemaField('contributing_factor_vehicle_4', 'STRING', 'NULLABLE', '', ()),\n",
              " SchemaField('contributing_factor_vehicle_5', 'STRING', 'NULLABLE', '', ()),\n",
              " SchemaField('cross_street_name', 'STRING', 'NULLABLE', '', ()),\n",
              " SchemaField('timestamp', 'DATETIME', 'NULLABLE', '', ()),\n",
              " SchemaField('latitude', 'FLOAT', 'NULLABLE', '', ()),\n",
              " SchemaField('longitude', 'FLOAT', 'NULLABLE', '', ()),\n",
              " SchemaField('location', 'STRING', 'NULLABLE', '', ()),\n",
              " SchemaField('number_of_cyclist_injured', 'INTEGER', 'NULLABLE', '', ()),\n",
              " SchemaField('number_of_cyclist_killed', 'INTEGER', 'NULLABLE', '', ()),\n",
              " SchemaField('number_of_motorist_injured', 'INTEGER', 'NULLABLE', '', ()),\n",
              " SchemaField('number_of_motorist_killed', 'INTEGER', 'NULLABLE', '', ()),\n",
              " SchemaField('number_of_pedestrians_injured', 'INTEGER', 'NULLABLE', '', ()),\n",
              " SchemaField('number_of_pedestrians_killed', 'INTEGER', 'NULLABLE', '', ()),\n",
              " SchemaField('number_of_persons_injured', 'INTEGER', 'NULLABLE', '', ()),\n",
              " SchemaField('number_of_persons_killed', 'INTEGER', 'NULLABLE', '', ()),\n",
              " SchemaField('off_street_name', 'STRING', 'NULLABLE', '', ()),\n",
              " SchemaField('on_street_name', 'STRING', 'NULLABLE', '', ()),\n",
              " SchemaField('unique_key', 'INTEGER', 'REQUIRED', '', ()),\n",
              " SchemaField('vehicle_type_code1', 'STRING', 'NULLABLE', '', ()),\n",
              " SchemaField('vehicle_type_code2', 'STRING', 'NULLABLE', '', ()),\n",
              " SchemaField('vehicle_type_code_3', 'STRING', 'NULLABLE', '', ()),\n",
              " SchemaField('vehicle_type_code_4', 'STRING', 'NULLABLE', '', ()),\n",
              " SchemaField('vehicle_type_code_5', 'STRING', 'NULLABLE', '', ()),\n",
              " SchemaField('zip_code', 'INTEGER', 'NULLABLE', '', ())]"
            ]
          },
          "metadata": {},
          "execution_count": 12
        }
      ]
    },
    {
      "cell_type": "markdown",
      "source": [
        "Exporting BigQuery Public Dataset 'NYPD MV Collisions' to a DataFrame"
      ],
      "metadata": {
        "id": "yi7iYtl1fEsn"
      }
    },
    {
      "cell_type": "code",
      "source": [
        "data = client.list_rows(table).to_dataframe()"
      ],
      "metadata": {
        "id": "3vun-8WvcCNi"
      },
      "execution_count": 15,
      "outputs": []
    },
    {
      "cell_type": "code",
      "source": [
        "data.to_csv('nypd_mv_collision.csv')"
      ],
      "metadata": {
        "id": "50NSuCdmdIWO"
      },
      "execution_count": 16,
      "outputs": []
    },
    {
      "cell_type": "code",
      "source": [
        "#Ref: https://youtu.be/fEetUikqFn8"
      ],
      "metadata": {
        "id": "2-3sjfTihS8W"
      },
      "execution_count": 17,
      "outputs": []
    },
    {
      "cell_type": "markdown",
      "source": [
        "Importing Libraries"
      ],
      "metadata": {
        "id": "gmp3q4AFrcgc"
      }
    },
    {
      "cell_type": "code",
      "source": [
        "import numpy as np\n",
        "import pandas as pd\n",
        "import matplotlib.pyplot as plt\n",
        "import seaborn as sns"
      ],
      "metadata": {
        "id": "i4P9hU5j4nx7"
      },
      "execution_count": 105,
      "outputs": []
    },
    {
      "cell_type": "code",
      "source": [
        "data.head()"
      ],
      "metadata": {
        "colab": {
          "base_uri": "https://localhost:8080/",
          "height": 341
        },
        "id": "lKByvVPSikvT",
        "outputId": "8e83dc1e-f964-4713-9f48-426171b7c526"
      },
      "execution_count": 48,
      "outputs": [
        {
          "output_type": "execute_result",
          "data": {
            "text/html": [
              "\n",
              "  <div id=\"df-5950a88f-b3b1-44dc-b1d9-3fc92821b299\">\n",
              "    <div class=\"colab-df-container\">\n",
              "      <div>\n",
              "<style scoped>\n",
              "    .dataframe tbody tr th:only-of-type {\n",
              "        vertical-align: middle;\n",
              "    }\n",
              "\n",
              "    .dataframe tbody tr th {\n",
              "        vertical-align: top;\n",
              "    }\n",
              "\n",
              "    .dataframe thead th {\n",
              "        text-align: right;\n",
              "    }\n",
              "</style>\n",
              "<table border=\"1\" class=\"dataframe\">\n",
              "  <thead>\n",
              "    <tr style=\"text-align: right;\">\n",
              "      <th></th>\n",
              "      <th>borough</th>\n",
              "      <th>contributing_factor_vehicle_1</th>\n",
              "      <th>contributing_factor_vehicle_2</th>\n",
              "      <th>contributing_factor_vehicle_3</th>\n",
              "      <th>contributing_factor_vehicle_4</th>\n",
              "      <th>contributing_factor_vehicle_5</th>\n",
              "      <th>cross_street_name</th>\n",
              "      <th>timestamp</th>\n",
              "      <th>latitude</th>\n",
              "      <th>longitude</th>\n",
              "      <th>location</th>\n",
              "      <th>number_of_cyclist_injured</th>\n",
              "      <th>number_of_cyclist_killed</th>\n",
              "      <th>number_of_motorist_injured</th>\n",
              "      <th>number_of_motorist_killed</th>\n",
              "      <th>number_of_pedestrians_injured</th>\n",
              "      <th>number_of_pedestrians_killed</th>\n",
              "      <th>number_of_persons_injured</th>\n",
              "      <th>number_of_persons_killed</th>\n",
              "      <th>off_street_name</th>\n",
              "      <th>on_street_name</th>\n",
              "      <th>unique_key</th>\n",
              "      <th>vehicle_type_code1</th>\n",
              "      <th>vehicle_type_code2</th>\n",
              "      <th>vehicle_type_code_3</th>\n",
              "      <th>vehicle_type_code_4</th>\n",
              "      <th>vehicle_type_code_5</th>\n",
              "      <th>zip_code</th>\n",
              "    </tr>\n",
              "  </thead>\n",
              "  <tbody>\n",
              "    <tr>\n",
              "      <th>0</th>\n",
              "      <td>None</td>\n",
              "      <td>Following Too Closely</td>\n",
              "      <td>Unspecified</td>\n",
              "      <td>None</td>\n",
              "      <td>None</td>\n",
              "      <td>None</td>\n",
              "      <td>None</td>\n",
              "      <td>2021-04-21 23:00:00</td>\n",
              "      <td>40.837610</td>\n",
              "      <td>-73.88106</td>\n",
              "      <td>(40.83761, -73.88106)</td>\n",
              "      <td>0</td>\n",
              "      <td>0</td>\n",
              "      <td>1</td>\n",
              "      <td>0</td>\n",
              "      <td>0</td>\n",
              "      <td>0</td>\n",
              "      <td>1.0</td>\n",
              "      <td>0.0</td>\n",
              "      <td>None</td>\n",
              "      <td>CROSS BRONX EXPY</td>\n",
              "      <td>4409508</td>\n",
              "      <td>Sedan</td>\n",
              "      <td>Tractor Truck Diesel</td>\n",
              "      <td>None</td>\n",
              "      <td>None</td>\n",
              "      <td>None</td>\n",
              "      <td>NaN</td>\n",
              "    </tr>\n",
              "    <tr>\n",
              "      <th>1</th>\n",
              "      <td>None</td>\n",
              "      <td>Unspecified</td>\n",
              "      <td>Unspecified</td>\n",
              "      <td>None</td>\n",
              "      <td>None</td>\n",
              "      <td>None</td>\n",
              "      <td>LINDEN PLACE</td>\n",
              "      <td>2021-04-23 13:00:00</td>\n",
              "      <td>NaN</td>\n",
              "      <td>NaN</td>\n",
              "      <td>None</td>\n",
              "      <td>0</td>\n",
              "      <td>0</td>\n",
              "      <td>0</td>\n",
              "      <td>0</td>\n",
              "      <td>0</td>\n",
              "      <td>0</td>\n",
              "      <td>0.0</td>\n",
              "      <td>0.0</td>\n",
              "      <td>None</td>\n",
              "      <td>WHITESTONE EXPRESSWAY</td>\n",
              "      <td>4409805</td>\n",
              "      <td>Pick-up Truck</td>\n",
              "      <td>Tractor Truck Diesel</td>\n",
              "      <td>None</td>\n",
              "      <td>None</td>\n",
              "      <td>None</td>\n",
              "      <td>NaN</td>\n",
              "    </tr>\n",
              "    <tr>\n",
              "      <th>2</th>\n",
              "      <td>None</td>\n",
              "      <td>Failure to Keep Right</td>\n",
              "      <td>Driver Inattention/Distraction</td>\n",
              "      <td>None</td>\n",
              "      <td>None</td>\n",
              "      <td>None</td>\n",
              "      <td>NEEDHAM AVENUE</td>\n",
              "      <td>2021-05-04 15:30:00</td>\n",
              "      <td>NaN</td>\n",
              "      <td>NaN</td>\n",
              "      <td>None</td>\n",
              "      <td>0</td>\n",
              "      <td>0</td>\n",
              "      <td>0</td>\n",
              "      <td>0</td>\n",
              "      <td>0</td>\n",
              "      <td>0</td>\n",
              "      <td>0.0</td>\n",
              "      <td>0.0</td>\n",
              "      <td>None</td>\n",
              "      <td>EAST 222 STREET</td>\n",
              "      <td>4413655</td>\n",
              "      <td>Station Wagon/Sport Utility Vehicle</td>\n",
              "      <td>Ambulance</td>\n",
              "      <td>None</td>\n",
              "      <td>None</td>\n",
              "      <td>None</td>\n",
              "      <td>NaN</td>\n",
              "    </tr>\n",
              "    <tr>\n",
              "      <th>3</th>\n",
              "      <td>None</td>\n",
              "      <td>Driver Inattention/Distraction</td>\n",
              "      <td>Unspecified</td>\n",
              "      <td>None</td>\n",
              "      <td>None</td>\n",
              "      <td>None</td>\n",
              "      <td>None</td>\n",
              "      <td>2021-05-06 15:20:00</td>\n",
              "      <td>40.727030</td>\n",
              "      <td>-73.85392</td>\n",
              "      <td>(40.72703, -73.85392)</td>\n",
              "      <td>0</td>\n",
              "      <td>0</td>\n",
              "      <td>0</td>\n",
              "      <td>0</td>\n",
              "      <td>0</td>\n",
              "      <td>0</td>\n",
              "      <td>1.0</td>\n",
              "      <td>0.0</td>\n",
              "      <td>None</td>\n",
              "      <td>QUEENS BOULEVARD</td>\n",
              "      <td>4414320</td>\n",
              "      <td>Sedan</td>\n",
              "      <td>E-Bike</td>\n",
              "      <td>None</td>\n",
              "      <td>None</td>\n",
              "      <td>None</td>\n",
              "      <td>NaN</td>\n",
              "    </tr>\n",
              "    <tr>\n",
              "      <th>4</th>\n",
              "      <td>None</td>\n",
              "      <td>Driver Inattention/Distraction</td>\n",
              "      <td>Unspecified</td>\n",
              "      <td>None</td>\n",
              "      <td>None</td>\n",
              "      <td>None</td>\n",
              "      <td>None</td>\n",
              "      <td>2021-05-07 08:20:00</td>\n",
              "      <td>40.707676</td>\n",
              "      <td>-73.92386</td>\n",
              "      <td>(40.707676, -73.92386)</td>\n",
              "      <td>0</td>\n",
              "      <td>0</td>\n",
              "      <td>1</td>\n",
              "      <td>0</td>\n",
              "      <td>0</td>\n",
              "      <td>0</td>\n",
              "      <td>1.0</td>\n",
              "      <td>0.0</td>\n",
              "      <td>None</td>\n",
              "      <td>FLUSHING AVENUE</td>\n",
              "      <td>4414970</td>\n",
              "      <td>Sedan</td>\n",
              "      <td>E BIKE</td>\n",
              "      <td>None</td>\n",
              "      <td>None</td>\n",
              "      <td>None</td>\n",
              "      <td>NaN</td>\n",
              "    </tr>\n",
              "  </tbody>\n",
              "</table>\n",
              "</div>\n",
              "      <button class=\"colab-df-convert\" onclick=\"convertToInteractive('df-5950a88f-b3b1-44dc-b1d9-3fc92821b299')\"\n",
              "              title=\"Convert this dataframe to an interactive table.\"\n",
              "              style=\"display:none;\">\n",
              "        \n",
              "  <svg xmlns=\"http://www.w3.org/2000/svg\" height=\"24px\"viewBox=\"0 0 24 24\"\n",
              "       width=\"24px\">\n",
              "    <path d=\"M0 0h24v24H0V0z\" fill=\"none\"/>\n",
              "    <path d=\"M18.56 5.44l.94 2.06.94-2.06 2.06-.94-2.06-.94-.94-2.06-.94 2.06-2.06.94zm-11 1L8.5 8.5l.94-2.06 2.06-.94-2.06-.94L8.5 2.5l-.94 2.06-2.06.94zm10 10l.94 2.06.94-2.06 2.06-.94-2.06-.94-.94-2.06-.94 2.06-2.06.94z\"/><path d=\"M17.41 7.96l-1.37-1.37c-.4-.4-.92-.59-1.43-.59-.52 0-1.04.2-1.43.59L10.3 9.45l-7.72 7.72c-.78.78-.78 2.05 0 2.83L4 21.41c.39.39.9.59 1.41.59.51 0 1.02-.2 1.41-.59l7.78-7.78 2.81-2.81c.8-.78.8-2.07 0-2.86zM5.41 20L4 18.59l7.72-7.72 1.47 1.35L5.41 20z\"/>\n",
              "  </svg>\n",
              "      </button>\n",
              "      \n",
              "  <style>\n",
              "    .colab-df-container {\n",
              "      display:flex;\n",
              "      flex-wrap:wrap;\n",
              "      gap: 12px;\n",
              "    }\n",
              "\n",
              "    .colab-df-convert {\n",
              "      background-color: #E8F0FE;\n",
              "      border: none;\n",
              "      border-radius: 50%;\n",
              "      cursor: pointer;\n",
              "      display: none;\n",
              "      fill: #1967D2;\n",
              "      height: 32px;\n",
              "      padding: 0 0 0 0;\n",
              "      width: 32px;\n",
              "    }\n",
              "\n",
              "    .colab-df-convert:hover {\n",
              "      background-color: #E2EBFA;\n",
              "      box-shadow: 0px 1px 2px rgba(60, 64, 67, 0.3), 0px 1px 3px 1px rgba(60, 64, 67, 0.15);\n",
              "      fill: #174EA6;\n",
              "    }\n",
              "\n",
              "    [theme=dark] .colab-df-convert {\n",
              "      background-color: #3B4455;\n",
              "      fill: #D2E3FC;\n",
              "    }\n",
              "\n",
              "    [theme=dark] .colab-df-convert:hover {\n",
              "      background-color: #434B5C;\n",
              "      box-shadow: 0px 1px 3px 1px rgba(0, 0, 0, 0.15);\n",
              "      filter: drop-shadow(0px 1px 2px rgba(0, 0, 0, 0.3));\n",
              "      fill: #FFFFFF;\n",
              "    }\n",
              "  </style>\n",
              "\n",
              "      <script>\n",
              "        const buttonEl =\n",
              "          document.querySelector('#df-5950a88f-b3b1-44dc-b1d9-3fc92821b299 button.colab-df-convert');\n",
              "        buttonEl.style.display =\n",
              "          google.colab.kernel.accessAllowed ? 'block' : 'none';\n",
              "\n",
              "        async function convertToInteractive(key) {\n",
              "          const element = document.querySelector('#df-5950a88f-b3b1-44dc-b1d9-3fc92821b299');\n",
              "          const dataTable =\n",
              "            await google.colab.kernel.invokeFunction('convertToInteractive',\n",
              "                                                     [key], {});\n",
              "          if (!dataTable) return;\n",
              "\n",
              "          const docLinkHtml = 'Like what you see? Visit the ' +\n",
              "            '<a target=\"_blank\" href=https://colab.research.google.com/notebooks/data_table.ipynb>data table notebook</a>'\n",
              "            + ' to learn more about interactive tables.';\n",
              "          element.innerHTML = '';\n",
              "          dataTable['output_type'] = 'display_data';\n",
              "          await google.colab.output.renderOutput(dataTable, element);\n",
              "          const docLink = document.createElement('div');\n",
              "          docLink.innerHTML = docLinkHtml;\n",
              "          element.appendChild(docLink);\n",
              "        }\n",
              "      </script>\n",
              "    </div>\n",
              "  </div>\n",
              "  "
            ],
            "text/plain": [
              "  borough   contributing_factor_vehicle_1  ... vehicle_type_code_5 zip_code\n",
              "0    None           Following Too Closely  ...                None      NaN\n",
              "1    None                     Unspecified  ...                None      NaN\n",
              "2    None           Failure to Keep Right  ...                None      NaN\n",
              "3    None  Driver Inattention/Distraction  ...                None      NaN\n",
              "4    None  Driver Inattention/Distraction  ...                None      NaN\n",
              "\n",
              "[5 rows x 28 columns]"
            ]
          },
          "metadata": {},
          "execution_count": 48
        }
      ]
    },
    {
      "cell_type": "markdown",
      "source": [
        "Data Pre-Processing"
      ],
      "metadata": {
        "id": "lnM9iG0ekoYF"
      }
    },
    {
      "cell_type": "code",
      "source": [
        "data.isnull().sum().sort_values(ascending=True)"
      ],
      "metadata": {
        "colab": {
          "base_uri": "https://localhost:8080/"
        },
        "id": "OPUmjRy8pyqs",
        "outputId": "4c6a8b01-50c5-450d-f773-694723a072fa"
      },
      "execution_count": 47,
      "outputs": [
        {
          "output_type": "execute_result",
          "data": {
            "text/plain": [
              "number_of_motorist_injured             0\n",
              "number_of_pedestrians_injured          0\n",
              "number_of_motorist_killed              0\n",
              "number_of_cyclist_killed               0\n",
              "number_of_cyclist_injured              0\n",
              "unique_key                             0\n",
              "number_of_pedestrians_killed           0\n",
              "timestamp                              0\n",
              "number_of_persons_injured             18\n",
              "number_of_persons_killed              31\n",
              "contributing_factor_vehicle_1       5424\n",
              "vehicle_type_code1                 10376\n",
              "longitude                         216393\n",
              "location                          216393\n",
              "latitude                          216393\n",
              "contributing_factor_vehicle_2     270775\n",
              "vehicle_type_code2                322963\n",
              "on_street_name                    380678\n",
              "borough                           574393\n",
              "zip_code                          574659\n",
              "cross_street_name                 670772\n",
              "off_street_name                  1569302\n",
              "contributing_factor_vehicle_3    1729729\n",
              "vehicle_type_code_3              1733610\n",
              "contributing_factor_vehicle_4    1829547\n",
              "vehicle_type_code_4              1830400\n",
              "contributing_factor_vehicle_5    1850137\n",
              "vehicle_type_code_5              1850342\n",
              "dtype: int64"
            ]
          },
          "metadata": {},
          "execution_count": 47
        }
      ]
    },
    {
      "cell_type": "code",
      "source": [
        "'''As the number of missing values is less in contributing factor vehicle 1 compared to other factors, using this as main columns and dropping the remaining columns to make data simpler.'''\n"
      ],
      "metadata": {
        "colab": {
          "base_uri": "https://localhost:8080/",
          "height": 54
        },
        "id": "4Sp-0VdeqTR0",
        "outputId": "b365c829-d50a-45b1-8d8e-ffef0ae7e4aa"
      },
      "execution_count": 49,
      "outputs": [
        {
          "output_type": "execute_result",
          "data": {
            "application/vnd.google.colaboratory.intrinsic+json": {
              "type": "string"
            },
            "text/plain": [
              "'As the number of missing values is less in contributing factor vehicle 1 compared to other factors, using this as main columns and dropping the remaining columns to make data simpler.'"
            ]
          },
          "metadata": {},
          "execution_count": 49
        }
      ]
    },
    {
      "cell_type": "code",
      "source": [
        "data = data.rename(columns = {'contributing_factor_vehicle_1' : 'collision_factor'})"
      ],
      "metadata": {
        "id": "PAaoUhDksEeC"
      },
      "execution_count": 50,
      "outputs": []
    },
    {
      "cell_type": "code",
      "source": [
        "#Dropping the unnecessary columns such as contributing factor, street names, ehicle types as an accident can happen anywhere and by any means of transport depending on the reason i.e.collision factor.\n",
        "cols = ['contributing_factor_vehicle_2', 'contributing_factor_vehicle_3', 'contributing_factor_vehicle_4',  'contributing_factor_vehicle_5', 'cross_street_name', 'off_street_name', 'on_street_name', 'vehicle_type_code1', 'vehicle_type_code2', 'vehicle_type_code_3', 'vehicle_type_code_4', 'vehicle_type_code_5']\n",
        "data = data.drop(cols, axis=1)"
      ],
      "metadata": {
        "id": "e-8WM5Lox_Hr"
      },
      "execution_count": 52,
      "outputs": []
    },
    {
      "cell_type": "code",
      "source": [
        "#Copying the data \n",
        "c_data = data.copy()"
      ],
      "metadata": {
        "id": "sgfuiKe84B80"
      },
      "execution_count": 67,
      "outputs": []
    },
    {
      "cell_type": "code",
      "source": [
        "#Dropping the missing information of number of people injured and killed as the number of missing value is very low compared to the size of dataset.\n",
        "# data['number_of_persons_injured'].dropna(axis=0, inplace=True)\n",
        "# data['number_of_persons_killed'].dropna(axis=0, inplace=True)\n",
        "data = data[pd.notnull(data['number_of_persons_injured'])]\n",
        "data = data[pd.notnull(data['number_of_persons_killed'])]"
      ],
      "metadata": {
        "id": "XuvMkGGRzybh"
      },
      "execution_count": 74,
      "outputs": []
    },
    {
      "cell_type": "code",
      "source": [
        "#As the place of accident cannot be determined due to the missing Borough values, dropping them\n",
        "data = data[pd.notnull(data['borough'])]"
      ],
      "metadata": {
        "id": "qc-y91Gc74jU"
      },
      "execution_count": 84,
      "outputs": []
    },
    {
      "cell_type": "code",
      "source": [
        "#The reason behind accident is important to know so no reason to keep the missing values, hence removing the missing values from collision factor column\n",
        "data = data[pd.notnull(data['collision_factor'])]"
      ],
      "metadata": {
        "id": "HJVbU5_k9b8N"
      },
      "execution_count": 87,
      "outputs": []
    },
    {
      "cell_type": "code",
      "source": [
        "#Converting the timestamp data type\n",
        "data['timestamp'] = pd.to_datetime(data['timestamp'])"
      ],
      "metadata": {
        "id": "O8-qyGGM5zle"
      },
      "execution_count": 77,
      "outputs": []
    },
    {
      "cell_type": "code",
      "source": [
        "#Splitting the timestamp\n",
        "data['year'] = data['timestamp'].dt.year\n",
        "data['month'] = data['timestamp'].dt.month\n",
        "data['day'] = data['timestamp'].dt.day\n",
        "data['hour'] = data['timestamp'].dt.hour"
      ],
      "metadata": {
        "id": "HnFE12Zf7MRH"
      },
      "execution_count": 78,
      "outputs": []
    },
    {
      "cell_type": "code",
      "source": [
        "#Identifying the frequency of unique collision factor in the dataset\n",
        "data['collision_factor'].value_counts()"
      ],
      "metadata": {
        "colab": {
          "base_uri": "https://localhost:8080/"
        },
        "id": "2esi4uCNApW6",
        "outputId": "411b2c82-7547-4fb7-eb1e-727a28655bbf"
      },
      "execution_count": 96,
      "outputs": [
        {
          "output_type": "execute_result",
          "data": {
            "text/plain": [
              "Unspecified                       499229\n",
              "Driver Inattention/Distraction    238130\n",
              "Failure to Yield Right-of-Way      79859\n",
              "Backing Unsafely                   54985\n",
              "Other Vehicular                    42019\n",
              "                                   ...  \n",
              "Shoulders Defective/Improper          51\n",
              "Windshield Inadequate                 48\n",
              "Texting                               22\n",
              "Listening/Using Headphones            10\n",
              "1                                      8\n",
              "Name: collision_factor, Length: 61, dtype: int64"
            ]
          },
          "metadata": {},
          "execution_count": 96
        }
      ]
    },
    {
      "cell_type": "code",
      "source": [
        "#There are a majority of 'Unspecified' factor which is not leading anywhere so removing the unspecified factor for accidient.\n",
        "data = data.drop(data[data['collision_factor'] == 'Unspecified'].index)"
      ],
      "metadata": {
        "id": "1rJfiaeOBNt-"
      },
      "execution_count": 97,
      "outputs": []
    },
    {
      "cell_type": "code",
      "source": [
        "data.isnull().sum().sort_values(ascending=True)"
      ],
      "metadata": {
        "colab": {
          "base_uri": "https://localhost:8080/"
        },
        "id": "btwMZGy8znki",
        "outputId": "b0d294c9-1427-400d-af55-60b948b73ab6"
      },
      "execution_count": 98,
      "outputs": [
        {
          "output_type": "execute_result",
          "data": {
            "text/plain": [
              "borough                              0\n",
              "month                                0\n",
              "year                                 0\n",
              "unique_key                           0\n",
              "number_of_persons_killed             0\n",
              "number_of_persons_injured            0\n",
              "number_of_pedestrians_killed         0\n",
              "number_of_pedestrians_injured        0\n",
              "day                                  0\n",
              "number_of_motorist_killed            0\n",
              "number_of_cyclist_killed             0\n",
              "number_of_cyclist_injured            0\n",
              "timestamp                            0\n",
              "collision_factor                     0\n",
              "number_of_motorist_injured           0\n",
              "hour                                 0\n",
              "zip_code                           189\n",
              "location                         25156\n",
              "longitude                        25156\n",
              "latitude                         25156\n",
              "dtype: int64"
            ]
          },
          "metadata": {},
          "execution_count": 98
        }
      ]
    },
    {
      "cell_type": "code",
      "source": [
        "#There are many missing location specific values, so before dealing with them, analysing the dataset"
      ],
      "metadata": {
        "id": "n4TjtBI86Vvn"
      },
      "execution_count": 91,
      "outputs": []
    },
    {
      "cell_type": "code",
      "source": [
        "#n = data.groupby(['borough', 'collision_factor']).agg(count = ('collision_factor', 'sum'))"
      ],
      "metadata": {
        "id": "uVyikoeSZ-zA"
      },
      "execution_count": 127,
      "outputs": []
    },
    {
      "cell_type": "code",
      "source": [
        "#Adding a column count to count the specific collision factor to be used for grouping \n",
        "data['count'] = 1"
      ],
      "metadata": {
        "id": "Kf1T347oB2xm"
      },
      "execution_count": 99,
      "outputs": []
    },
    {
      "cell_type": "code",
      "source": [
        "n = data.groupby(['borough', 'collision_factor']).agg({'count':sum})\n",
        "n_data = n['count'].groupby(level=0, group_keys=False)"
      ],
      "metadata": {
        "id": "QavgYCwj_dpQ"
      },
      "execution_count": 103,
      "outputs": []
    },
    {
      "cell_type": "code",
      "source": [
        "plt.figure(figsize=(20,10))\n",
        "n_data.nlargest(5).plot.bar()\n",
        "plt.xlabel('Borough, CF' , size=20)\n",
        "plt.ylabel('Count', size=20)"
      ],
      "metadata": {
        "colab": {
          "base_uri": "https://localhost:8080/",
          "height": 860
        },
        "id": "pVUBMtqz_3YQ",
        "outputId": "8bab02a0-9a8e-4e3f-9f66-12c142afc844"
      },
      "execution_count": 146,
      "outputs": [
        {
          "output_type": "execute_result",
          "data": {
            "text/plain": [
              "Text(0, 0.5, 'Count')"
            ]
          },
          "metadata": {},
          "execution_count": 146
        },
        {
          "output_type": "display_data",
          "data": {
            "image/png": "[encoded data removed]",
            "text/plain": [
              "<Figure size 1440x720 with 1 Axes>"
            ]
          },
          "metadata": {
            "needs_background": "light"
          }
        }
      ]
    },
    {
      "cell_type": "code",
      "source": [
        "'''With the above plot, we can determine that the Boroughs 'Queens', 'Brooklyn', and 'Manhatten' witnessed maximum number of motor vehicle collisions where the accidents with majority collision factor was 'Driver's inattention/distraction'.\n",
        "A better plot would have resulted in coloured bar plots with Borough as x axis and top 5 collision factors as hue. '''"
      ],
      "metadata": {
        "colab": {
          "base_uri": "https://localhost:8080/",
          "height": 54
        },
        "id": "UDBJx7qRi4yJ",
        "outputId": "ab60c784-4923-447b-e5ca-a9cafab7534e"
      },
      "execution_count": 149,
      "outputs": [
        {
          "output_type": "execute_result",
          "data": {
            "application/vnd.google.colaboratory.intrinsic+json": {
              "type": "string"
            },
            "text/plain": [
              "\"With the above plot, we can determine that the Boroughs 'Queens', 'Brooklyn', and 'Manhatten' witnessed maximum number of motor vehicle collisions where the accidents with majority collision factor was 'Driver's inattention/distraction'.\\nA better plot would have resulted in coloured bar plots with Borough as x axis and top 5 collision factors as hue. \""
            ]
          },
          "metadata": {},
          "execution_count": 149
        }
      ]
    },
    {
      "cell_type": "code",
      "source": [
        "'''Since our focus is to analyse the dataset to help the city council reduce the accidents in the city of Brooklyn, extracting the data only for Brooklyn'''"
      ],
      "metadata": {
        "colab": {
          "base_uri": "https://localhost:8080/",
          "height": 37
        },
        "id": "gLF3XerClTHr",
        "outputId": "19e26266-155b-4c40-d8b1-9ff54fd15083"
      },
      "execution_count": 150,
      "outputs": [
        {
          "output_type": "execute_result",
          "data": {
            "application/vnd.google.colaboratory.intrinsic+json": {
              "type": "string"
            },
            "text/plain": [
              "'Since our focus is to analyse the dataset to help the city council reduce the accidents in the city of Brooklyn, extracting the data only for Brooklyn'"
            ]
          },
          "metadata": {},
          "execution_count": 150
        }
      ]
    },
    {
      "cell_type": "code",
      "source": [
        "data.to_csv('clean_ny_mv_collision.csv')"
      ],
      "metadata": {
        "id": "k-jkbxKDmGeq"
      },
      "execution_count": 154,
      "outputs": []
    },
    {
      "cell_type": "markdown",
      "source": [
        "This part can also be done using SQL on BigQuery:\n",
        "\n",
        "SELECT unique_key, borough, timestamp, location, zip_code, latitude, longitude,\n",
        " contributing_factor_vehicle_1 AS collision_factor, number_of_cyclist_injured, number_of_cyclist_killed, \n",
        " number_of_motorist_injured, number_of_motorist_killed, number_of_pedestrians_injured,  \n",
        " number_of_pedestrians_killed, number_of_persons_injured, number_of_persons_killed\n",
        "\n",
        "FROM `bigquery-public-data.new_york.nypd_mv_collisions` \n",
        "\n",
        "WHERE borough LIKE \"BROOKLYN\" AND borough IS NOT NULL;\n",
        "\n",
        "and then pass that table to pre-process and visualise using Python and Tableau."
      ],
      "metadata": {
        "id": "MgJOBnKmqFwY"
      }
    },
    {
      "cell_type": "code",
      "source": [
        "brooklyn = data[data['borough'] == 'BROOKLYN']"
      ],
      "metadata": {
        "id": "TnDNBv-amdGu"
      },
      "execution_count": 159,
      "outputs": []
    },
    {
      "cell_type": "code",
      "source": [
        "brooklyn.head()"
      ],
      "metadata": {
        "colab": {
          "base_uri": "https://localhost:8080/",
          "height": 341
        },
        "id": "wdOEtRJrnGil",
        "outputId": "ca1a3b9b-b62b-49bd-9ad3-53011223cd98"
      },
      "execution_count": 161,
      "outputs": [
        {
          "output_type": "execute_result",
          "data": {
            "text/html": [
              "\n",
              "  <div id=\"df-93d779ad-69d7-40ce-94d6-2d65da6d1c20\">\n",
              "    <div class=\"colab-df-container\">\n",
              "      <div>\n",
              "<style scoped>\n",
              "    .dataframe tbody tr th:only-of-type {\n",
              "        vertical-align: middle;\n",
              "    }\n",
              "\n",
              "    .dataframe tbody tr th {\n",
              "        vertical-align: top;\n",
              "    }\n",
              "\n",
              "    .dataframe thead th {\n",
              "        text-align: right;\n",
              "    }\n",
              "</style>\n",
              "<table border=\"1\" class=\"dataframe\">\n",
              "  <thead>\n",
              "    <tr style=\"text-align: right;\">\n",
              "      <th></th>\n",
              "      <th>borough</th>\n",
              "      <th>collision_factor</th>\n",
              "      <th>timestamp</th>\n",
              "      <th>latitude</th>\n",
              "      <th>longitude</th>\n",
              "      <th>location</th>\n",
              "      <th>number_of_cyclist_injured</th>\n",
              "      <th>number_of_cyclist_killed</th>\n",
              "      <th>number_of_motorist_injured</th>\n",
              "      <th>number_of_motorist_killed</th>\n",
              "      <th>number_of_pedestrians_injured</th>\n",
              "      <th>number_of_pedestrians_killed</th>\n",
              "      <th>number_of_persons_injured</th>\n",
              "      <th>number_of_persons_killed</th>\n",
              "      <th>unique_key</th>\n",
              "      <th>zip_code</th>\n",
              "      <th>year</th>\n",
              "      <th>month</th>\n",
              "      <th>day</th>\n",
              "      <th>hour</th>\n",
              "      <th>count</th>\n",
              "    </tr>\n",
              "  </thead>\n",
              "  <tbody>\n",
              "    <tr>\n",
              "      <th>42133</th>\n",
              "      <td>BROOKLYN</td>\n",
              "      <td>Failure to Yield Right-of-Way</td>\n",
              "      <td>2021-04-14 18:55:00</td>\n",
              "      <td>40.642002</td>\n",
              "      <td>-73.898834</td>\n",
              "      <td>(40.642002, -73.898834)</td>\n",
              "      <td>0</td>\n",
              "      <td>0</td>\n",
              "      <td>1</td>\n",
              "      <td>0</td>\n",
              "      <td>0</td>\n",
              "      <td>0</td>\n",
              "      <td>1.0</td>\n",
              "      <td>0.0</td>\n",
              "      <td>4407405</td>\n",
              "      <td>11236</td>\n",
              "      <td>2021</td>\n",
              "      <td>4</td>\n",
              "      <td>14</td>\n",
              "      <td>18</td>\n",
              "      <td>1</td>\n",
              "    </tr>\n",
              "    <tr>\n",
              "      <th>42134</th>\n",
              "      <td>BROOKLYN</td>\n",
              "      <td>Other Vehicular</td>\n",
              "      <td>2021-04-24 09:50:00</td>\n",
              "      <td>40.676495</td>\n",
              "      <td>-73.913704</td>\n",
              "      <td>(40.676495, -73.913704)</td>\n",
              "      <td>0</td>\n",
              "      <td>0</td>\n",
              "      <td>0</td>\n",
              "      <td>0</td>\n",
              "      <td>0</td>\n",
              "      <td>0</td>\n",
              "      <td>0.0</td>\n",
              "      <td>0.0</td>\n",
              "      <td>4410076</td>\n",
              "      <td>11233</td>\n",
              "      <td>2021</td>\n",
              "      <td>4</td>\n",
              "      <td>24</td>\n",
              "      <td>9</td>\n",
              "      <td>1</td>\n",
              "    </tr>\n",
              "    <tr>\n",
              "      <th>42135</th>\n",
              "      <td>BROOKLYN</td>\n",
              "      <td>Driver Inattention/Distraction</td>\n",
              "      <td>2021-05-05 18:10:00</td>\n",
              "      <td>40.676548</td>\n",
              "      <td>-73.963540</td>\n",
              "      <td>(40.676548, -73.96354)</td>\n",
              "      <td>1</td>\n",
              "      <td>0</td>\n",
              "      <td>0</td>\n",
              "      <td>0</td>\n",
              "      <td>0</td>\n",
              "      <td>0</td>\n",
              "      <td>1.0</td>\n",
              "      <td>0.0</td>\n",
              "      <td>4414100</td>\n",
              "      <td>11238</td>\n",
              "      <td>2021</td>\n",
              "      <td>5</td>\n",
              "      <td>5</td>\n",
              "      <td>18</td>\n",
              "      <td>1</td>\n",
              "    </tr>\n",
              "    <tr>\n",
              "      <th>42136</th>\n",
              "      <td>BROOKLYN</td>\n",
              "      <td>Traffic Control Disregarded</td>\n",
              "      <td>2021-05-31 18:08:00</td>\n",
              "      <td>40.673275</td>\n",
              "      <td>-73.868530</td>\n",
              "      <td>(40.673275, -73.86853)</td>\n",
              "      <td>0</td>\n",
              "      <td>0</td>\n",
              "      <td>1</td>\n",
              "      <td>0</td>\n",
              "      <td>0</td>\n",
              "      <td>0</td>\n",
              "      <td>1.0</td>\n",
              "      <td>0.0</td>\n",
              "      <td>4422459</td>\n",
              "      <td>11208</td>\n",
              "      <td>2021</td>\n",
              "      <td>5</td>\n",
              "      <td>31</td>\n",
              "      <td>18</td>\n",
              "      <td>1</td>\n",
              "    </tr>\n",
              "    <tr>\n",
              "      <th>42137</th>\n",
              "      <td>BROOKLYN</td>\n",
              "      <td>Traffic Control Disregarded</td>\n",
              "      <td>2021-06-10 03:47:00</td>\n",
              "      <td>40.670986</td>\n",
              "      <td>-73.984795</td>\n",
              "      <td>(40.670986, -73.984795)</td>\n",
              "      <td>0</td>\n",
              "      <td>0</td>\n",
              "      <td>0</td>\n",
              "      <td>0</td>\n",
              "      <td>0</td>\n",
              "      <td>0</td>\n",
              "      <td>0.0</td>\n",
              "      <td>0.0</td>\n",
              "      <td>4425639</td>\n",
              "      <td>11215</td>\n",
              "      <td>2021</td>\n",
              "      <td>6</td>\n",
              "      <td>10</td>\n",
              "      <td>3</td>\n",
              "      <td>1</td>\n",
              "    </tr>\n",
              "  </tbody>\n",
              "</table>\n",
              "</div>\n",
              "      <button class=\"colab-df-convert\" onclick=\"convertToInteractive('df-93d779ad-69d7-40ce-94d6-2d65da6d1c20')\"\n",
              "              title=\"Convert this dataframe to an interactive table.\"\n",
              "              style=\"display:none;\">\n",
              "        \n",
              "  <svg xmlns=\"http://www.w3.org/2000/svg\" height=\"24px\"viewBox=\"0 0 24 24\"\n",
              "       width=\"24px\">\n",
              "    <path d=\"M0 0h24v24H0V0z\" fill=\"none\"/>\n",
              "    <path d=\"M18.56 5.44l.94 2.06.94-2.06 2.06-.94-2.06-.94-.94-2.06-.94 2.06-2.06.94zm-11 1L8.5 8.5l.94-2.06 2.06-.94-2.06-.94L8.5 2.5l-.94 2.06-2.06.94zm10 10l.94 2.06.94-2.06 2.06-.94-2.06-.94-.94-2.06-.94 2.06-2.06.94z\"/><path d=\"M17.41 7.96l-1.37-1.37c-.4-.4-.92-.59-1.43-.59-.52 0-1.04.2-1.43.59L10.3 9.45l-7.72 7.72c-.78.78-.78 2.05 0 2.83L4 21.41c.39.39.9.59 1.41.59.51 0 1.02-.2 1.41-.59l7.78-7.78 2.81-2.81c.8-.78.8-2.07 0-2.86zM5.41 20L4 18.59l7.72-7.72 1.47 1.35L5.41 20z\"/>\n",
              "  </svg>\n",
              "      </button>\n",
              "      \n",
              "  <style>\n",
              "    .colab-df-container {\n",
              "      display:flex;\n",
              "      flex-wrap:wrap;\n",
              "      gap: 12px;\n",
              "    }\n",
              "\n",
              "    .colab-df-convert {\n",
              "      background-color: #E8F0FE;\n",
              "      border: none;\n",
              "      border-radius: 50%;\n",
              "      cursor: pointer;\n",
              "      display: none;\n",
              "      fill: #1967D2;\n",
              "      height: 32px;\n",
              "      padding: 0 0 0 0;\n",
              "      width: 32px;\n",
              "    }\n",
              "\n",
              "    .colab-df-convert:hover {\n",
              "      background-color: #E2EBFA;\n",
              "      box-shadow: 0px 1px 2px rgba(60, 64, 67, 0.3), 0px 1px 3px 1px rgba(60, 64, 67, 0.15);\n",
              "      fill: #174EA6;\n",
              "    }\n",
              "\n",
              "    [theme=dark] .colab-df-convert {\n",
              "      background-color: #3B4455;\n",
              "      fill: #D2E3FC;\n",
              "    }\n",
              "\n",
              "    [theme=dark] .colab-df-convert:hover {\n",
              "      background-color: #434B5C;\n",
              "      box-shadow: 0px 1px 3px 1px rgba(0, 0, 0, 0.15);\n",
              "      filter: drop-shadow(0px 1px 2px rgba(0, 0, 0, 0.3));\n",
              "      fill: #FFFFFF;\n",
              "    }\n",
              "  </style>\n",
              "\n",
              "      <script>\n",
              "        const buttonEl =\n",
              "          document.querySelector('#df-93d779ad-69d7-40ce-94d6-2d65da6d1c20 button.colab-df-convert');\n",
              "        buttonEl.style.display =\n",
              "          google.colab.kernel.accessAllowed ? 'block' : 'none';\n",
              "\n",
              "        async function convertToInteractive(key) {\n",
              "          const element = document.querySelector('#df-93d779ad-69d7-40ce-94d6-2d65da6d1c20');\n",
              "          const dataTable =\n",
              "            await google.colab.kernel.invokeFunction('convertToInteractive',\n",
              "                                                     [key], {});\n",
              "          if (!dataTable) return;\n",
              "\n",
              "          const docLinkHtml = 'Like what you see? Visit the ' +\n",
              "            '<a target=\"_blank\" href=https://colab.research.google.com/notebooks/data_table.ipynb>data table notebook</a>'\n",
              "            + ' to learn more about interactive tables.';\n",
              "          element.innerHTML = '';\n",
              "          dataTable['output_type'] = 'display_data';\n",
              "          await google.colab.output.renderOutput(dataTable, element);\n",
              "          const docLink = document.createElement('div');\n",
              "          docLink.innerHTML = docLinkHtml;\n",
              "          element.appendChild(docLink);\n",
              "        }\n",
              "      </script>\n",
              "    </div>\n",
              "  </div>\n",
              "  "
            ],
            "text/plain": [
              "        borough                collision_factor  ... hour  count\n",
              "42133  BROOKLYN   Failure to Yield Right-of-Way  ...   18      1\n",
              "42134  BROOKLYN                 Other Vehicular  ...    9      1\n",
              "42135  BROOKLYN  Driver Inattention/Distraction  ...   18      1\n",
              "42136  BROOKLYN     Traffic Control Disregarded  ...   18      1\n",
              "42137  BROOKLYN     Traffic Control Disregarded  ...    3      1\n",
              "\n",
              "[5 rows x 21 columns]"
            ]
          },
          "metadata": {},
          "execution_count": 161
        }
      ]
    },
    {
      "cell_type": "code",
      "source": [
        "#Saving brooklyn dataset\n",
        "brooklyn.to_csv('brooklyn_mv_collision.csv', index=False)"
      ],
      "metadata": {
        "id": "PwMwOrI5nL8N"
      },
      "execution_count": 163,
      "outputs": []
    },
    {
      "cell_type": "markdown",
      "source": [
        "Continue to Brooklyn Analysis.ipynb for the exploratory data analysis of the data and the recommendations for improvement to reduce accidents."
      ],
      "metadata": {
        "id": "BAX16ilpbDmA"
      }
    },
    {
      "cell_type": "code",
      "source": [
        "# col_ref = client.dataset('nypd', project = project_id)\n",
        "# col_dataset = client.get_dataset(col_ref)\n",
        "# tables = list(client.list_tables(col_dataset))\n",
        "# for table in tables:\n",
        "#   print(table.table_id)\n",
        "# table_ref1 = dataset_ref.table('collision_frequency')\n",
        "# table = client.get_table(table_ref1)\n",
        "# table.schema\n",
        "# cf_data = client.list_rows(table).to_dataframe()"
      ],
      "metadata": {
        "id": "K1ze8sZwbCmQ"
      },
      "execution_count": 193,
      "outputs": []
    },
    {
      "cell_type": "code",
      "source": [
        "#Since there is location issue with the above BigQuery Scraping, trying the raw way using Python."
      ],
      "metadata": {
        "id": "ioVk2se0dofw"
      },
      "execution_count": 194,
      "outputs": []
    }
  ]
}